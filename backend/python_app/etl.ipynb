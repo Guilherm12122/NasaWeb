{
 "cells": [
  {
   "cell_type": "code",
   "execution_count": 2,
   "metadata": {},
   "outputs": [],
   "source": [
    "import requests\n",
    "from pprint import PrettyPrinter\n",
    "import pandas as pd"
   ]
  },
  {
   "cell_type": "code",
   "execution_count": 3,
   "metadata": {},
   "outputs": [],
   "source": [
    "#### INICIALIZAÇÃO ####\n",
    "pp = PrettyPrinter()\n",
    "api_key = 'DTmqcdZjMXD0nO6Es4YWjoOinBY7H8D0gJ0uWMux'\n",
    "URL_APOD = \"https://api.nasa.gov/planetary/apod\"\n",
    "start_date = '2024-05-01'\n",
    "end_date = '2024-05-17'\n",
    "hd = 'True'"
   ]
  },
  {
   "cell_type": "code",
   "execution_count": 4,
   "metadata": {},
   "outputs": [],
   "source": [
    "#### CRIAÇÃO DO OBJETO DE REQUISIÇÃO ####\n",
    "obj_dict = {\n",
    "    'api_key': api_key,\n",
    "    'start_date': start_date,\n",
    "    'end_date': end_date,\n",
    "    'hd': hd\n",
    "}\n",
    "\n",
    "#### REALIZANDO REQUISIÇÃO ####\n",
    "lista_apod = requests.get(URL_APOD, obj_dict).json()"
   ]
  },
  {
   "cell_type": "code",
   "execution_count": 6,
   "metadata": {},
   "outputs": [
    {
     "data": {
      "text/html": [
       "<div>\n",
       "<style scoped>\n",
       "    .dataframe tbody tr th:only-of-type {\n",
       "        vertical-align: middle;\n",
       "    }\n",
       "\n",
       "    .dataframe tbody tr th {\n",
       "        vertical-align: top;\n",
       "    }\n",
       "\n",
       "    .dataframe thead th {\n",
       "        text-align: right;\n",
       "    }\n",
       "</style>\n",
       "<table border=\"1\" class=\"dataframe\">\n",
       "  <thead>\n",
       "    <tr style=\"text-align: right;\">\n",
       "      <th></th>\n",
       "      <th>date</th>\n",
       "      <th>title</th>\n",
       "      <th>explanation</th>\n",
       "      <th>url</th>\n",
       "    </tr>\n",
       "  </thead>\n",
       "  <tbody>\n",
       "    <tr>\n",
       "      <th>0</th>\n",
       "      <td>2024-05-01</td>\n",
       "      <td>IC 1795: The Fishhead Nebula</td>\n",
       "      <td>To some, this nebula looks like the head of a ...</td>\n",
       "      <td>https://apod.nasa.gov/apod/image/2405/Fishhead...</td>\n",
       "    </tr>\n",
       "    <tr>\n",
       "      <th>1</th>\n",
       "      <td>2024-05-02</td>\n",
       "      <td>M100: A Grand Design Spiral Galaxy</td>\n",
       "      <td>Majestic on a truly cosmic scale, M100 is appr...</td>\n",
       "      <td>https://apod.nasa.gov/apod/image/2405/M100_Dre...</td>\n",
       "    </tr>\n",
       "    <tr>\n",
       "      <th>2</th>\n",
       "      <td>2024-05-03</td>\n",
       "      <td>Temperatures on Exoplanet WASP-43b</td>\n",
       "      <td>A mere 280 light-years from Earth, tidally loc...</td>\n",
       "      <td>https://apod.nasa.gov/apod/image/2405/STScI-WA...</td>\n",
       "    </tr>\n",
       "    <tr>\n",
       "      <th>3</th>\n",
       "      <td>2024-05-04</td>\n",
       "      <td>3 ATs</td>\n",
       "      <td>Despite their resemblance to R2D2, these three...</td>\n",
       "      <td>https://apod.nasa.gov/apod/image/2405/three_at...</td>\n",
       "    </tr>\n",
       "    <tr>\n",
       "      <th>4</th>\n",
       "      <td>2024-05-05</td>\n",
       "      <td>A Black Hole Disrupts a Passing Star</td>\n",
       "      <td>What happens to a star that goes near a black ...</td>\n",
       "      <td>https://apod.nasa.gov/apod/image/2405/BhShredd...</td>\n",
       "    </tr>\n",
       "  </tbody>\n",
       "</table>\n",
       "</div>"
      ],
      "text/plain": [
       "         date                                 title  \\\n",
       "0  2024-05-01          IC 1795: The Fishhead Nebula   \n",
       "1  2024-05-02    M100: A Grand Design Spiral Galaxy   \n",
       "2  2024-05-03    Temperatures on Exoplanet WASP-43b   \n",
       "3  2024-05-04                                 3 ATs   \n",
       "4  2024-05-05  A Black Hole Disrupts a Passing Star   \n",
       "\n",
       "                                         explanation  \\\n",
       "0  To some, this nebula looks like the head of a ...   \n",
       "1  Majestic on a truly cosmic scale, M100 is appr...   \n",
       "2  A mere 280 light-years from Earth, tidally loc...   \n",
       "3  Despite their resemblance to R2D2, these three...   \n",
       "4  What happens to a star that goes near a black ...   \n",
       "\n",
       "                                                 url  \n",
       "0  https://apod.nasa.gov/apod/image/2405/Fishhead...  \n",
       "1  https://apod.nasa.gov/apod/image/2405/M100_Dre...  \n",
       "2  https://apod.nasa.gov/apod/image/2405/STScI-WA...  \n",
       "3  https://apod.nasa.gov/apod/image/2405/three_at...  \n",
       "4  https://apod.nasa.gov/apod/image/2405/BhShredd...  "
      ]
     },
     "execution_count": 6,
     "metadata": {},
     "output_type": "execute_result"
    }
   ],
   "source": [
    "df_apod = pd.DataFrame(lista_apod)\n",
    "df_apod = df_apod[[\"date\", \"title\", \"explanation\", \"url\"]]\n",
    "df_apod.head()"
   ]
  },
  {
   "cell_type": "code",
   "execution_count": null,
   "metadata": {},
   "outputs": [],
   "source": []
  }
 ],
 "metadata": {
  "kernelspec": {
   "display_name": "base",
   "language": "python",
   "name": "python3"
  },
  "language_info": {
   "codemirror_mode": {
    "name": "ipython",
    "version": 3
   },
   "file_extension": ".py",
   "mimetype": "text/x-python",
   "name": "python",
   "nbconvert_exporter": "python",
   "pygments_lexer": "ipython3",
   "version": "3.11.4"
  }
 },
 "nbformat": 4,
 "nbformat_minor": 2
}
